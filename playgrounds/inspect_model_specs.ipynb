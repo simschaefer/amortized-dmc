{
 "cells": [
  {
   "cell_type": "code",
   "execution_count": 1,
   "id": "5c9c22c8",
   "metadata": {},
   "outputs": [],
   "source": [
    "import sys\n",
    "sys.path.append(\"../../BayesFlow\")\n",
    "sys.path.append(\"../\")\n",
    "\n",
    "import os\n",
    "if \"KERAS_BACKEND\" not in os.environ:\n",
    "    # set this to \"torch\", \"tensorflow\", or \"jax\"\n",
    "    os.environ[\"KERAS_BACKEND\"] = \"torch\"\n",
    "\n",
    "import numpy as np\n",
    "import pickle\n",
    "\n",
    "import keras\n",
    "import seaborn as sns\n",
    "\n",
    "import matplotlib.pyplot as plt\n",
    "\n",
    "\n",
    "parent_dir = '/home/administrator/Documents/bf_dmc'"
   ]
  },
  {
   "cell_type": "code",
   "execution_count": 2,
   "id": "42a4a63f",
   "metadata": {},
   "outputs": [
    {
     "name": "stderr",
     "output_type": "stream",
     "text": [
      "WARNING:bayesflow:When using torch backend, we need to disable autograd by default to avoid excessive memory usage. Use\n",
      "with torch.enable_grad():\n",
      "in contexts where you need gradients (e.g. custom training loops).\n"
     ]
    },
    {
     "data": {
      "text/plain": [
       "'/home/administrator/Documents/bf_dmc'"
      ]
     },
     "execution_count": 2,
     "metadata": {},
     "output_type": "execute_result"
    }
   ],
   "source": [
    "import bayesflow as bf\n",
    "from dmc import DMC, dmc_helpers\n",
    "\n",
    "os.getcwd()"
   ]
  },
  {
   "cell_type": "code",
   "execution_count": 12,
   "id": "3ab1a0f5",
   "metadata": {},
   "outputs": [],
   "source": [
    "network_name = 'dmc_optimized_winsim_priors_sdr_fixed'\n",
    "\n",
    "model_specs_path = parent_dir + '/model_specs/model_specs_' + network_name + '.pickle'\n",
    "with open(model_specs_path, 'rb') as file:\n",
    "    model_specs = pickle.load(file)"
   ]
  },
  {
   "cell_type": "code",
   "execution_count": 10,
   "id": "022ec521",
   "metadata": {},
   "outputs": [
    {
     "data": {
      "text/plain": [
       "{'simulation_settings': {'prior_means': array([ 70.8 , 114.71,   0.71, 332.34,  98.36]),\n",
       "  'prior_sds': array([19.42, 40.08,  0.14, 52.07, 30.05]),\n",
       "  'tmax': 1500,\n",
       "  'contamination_probability': None,\n",
       "  'min_num_obs': 50,\n",
       "  'max_num_obs': 800,\n",
       "  'fixed_num_obs': None},\n",
       " 'inference_network_settings': {'coupling_kwargs': {'subnet_kwargs': {'dropout': 0.0100967297}},\n",
       "  'depth': 10},\n",
       " 'summary_network_settings': {'dropout': 0.0100967297,\n",
       "  'num_seeds': 2,\n",
       "  'summary_dim': 32,\n",
       "  'embed_dim': (128, 128)},\n",
       " 'batch_size': 16,\n",
       " 'learning_rate': 0.0004916,\n",
       " 'param_names': ['A', 'tau', 'mu_c', 'mu_r', 'b']}"
      ]
     },
     "execution_count": 10,
     "metadata": {},
     "output_type": "execute_result"
    }
   ],
   "source": [
    "model_specs"
   ]
  },
  {
   "cell_type": "code",
   "execution_count": 14,
   "id": "fbfec216",
   "metadata": {},
   "outputs": [
    {
     "data": {
      "text/plain": [
       "{'simulation_settings': {'prior_means': array([ 16. , 111. ,   0.5, 322. ,  75. ]),\n",
       "  'prior_sds': array([10.  , 47.  ,  0.13, 40.  , 23.  ]),\n",
       "  'tmax': 1500,\n",
       "  'contamination_probability': None,\n",
       "  'min_num_obs': 50,\n",
       "  'max_num_obs': 800,\n",
       "  'fixed_num_obs': None},\n",
       " 'inference_network_settings': {'coupling_kwargs': {'subnet_kwargs': {'dropout': 0.0100967297}},\n",
       "  'depth': 10},\n",
       " 'summary_network_settings': {'dropout': 0.0100967297,\n",
       "  'num_seeds': 2,\n",
       "  'summary_dim': 32,\n",
       "  'embed_dim': (128, 128)},\n",
       " 'batch_size': 16,\n",
       " 'learning_rate': 0.0004916,\n",
       " 'param_names': ['A', 'tau', 'mu_c', 'mu_r', 'b']}"
      ]
     },
     "execution_count": 14,
     "metadata": {},
     "output_type": "execute_result"
    }
   ],
   "source": [
    "network_name = 'dmc_optimized_updated_priors_old'\n",
    "\n",
    "model_specs_path = parent_dir + '/model_specs/model_specs_' + network_name + '.pickle'\n",
    "with open(model_specs_path, 'rb') as file:\n",
    "    model_specs = pickle.load(file)\n",
    "\n",
    "model_specs"
   ]
  },
  {
   "cell_type": "code",
   "execution_count": 16,
   "id": "c4bf2e66",
   "metadata": {},
   "outputs": [
    {
     "data": {
      "text/plain": [
       "{'simulation_settings': {'prior_means': array([ 18.66, 171.89,   0.58, 307.12,  87.12]),\n",
       "  'prior_sds': array([ 7.48, 46.95,  0.09, 21.34, 14.06]),\n",
       "  'sdr_fixed': 0,\n",
       "  'tmax': 1500,\n",
       "  'contamination_probability': None,\n",
       "  'min_num_obs': 50,\n",
       "  'max_num_obs': 800,\n",
       "  'fixed_num_obs': None},\n",
       " 'inference_network_settings': {'coupling_kwargs': {'subnet_kwargs': {'dropout': 0.0100967297}},\n",
       "  'depth': 10},\n",
       " 'summary_network_settings': {'dropout': 0.0100967297,\n",
       "  'num_seeds': 2,\n",
       "  'summary_dim': 32,\n",
       "  'embed_dim': (128, 128)},\n",
       " 'batch_size': 16,\n",
       " 'learning_rate': 0.0004916,\n",
       " 'param_names': ['A', 'tau', 'mu_c', 'mu_r', 'b']}"
      ]
     },
     "execution_count": 16,
     "metadata": {},
     "output_type": "execute_result"
    }
   ],
   "source": [
    "network_name = 'dmc_optimized_updated_priors_sdr_fixed'\n",
    "\n",
    "model_specs_path = parent_dir + '/model_specs/model_specs_' + network_name + '.pickle'\n",
    "with open(model_specs_path, 'rb') as file:\n",
    "    model_specs = pickle.load(file)\n",
    "\n",
    "model_specs"
   ]
  },
  {
   "cell_type": "code",
   "execution_count": 15,
   "id": "03158fdb",
   "metadata": {},
   "outputs": [
    {
     "data": {
      "text/plain": [
       "{'simulation_settings': {'prior_means': array([ 70.8 , 114.71,   0.71, 332.34,  98.36,  43.36]),\n",
       "  'prior_sds': array([19.42, 40.08,  0.14, 52.07, 30.05,  9.19]),\n",
       "  'sdr_fixed': None,\n",
       "  'tmax': 1500,\n",
       "  'contamination_probability': None,\n",
       "  'min_num_obs': 50,\n",
       "  'max_num_obs': 800,\n",
       "  'fixed_num_obs': None},\n",
       " 'inference_network_settings': {'coupling_kwargs': {'subnet_kwargs': {'dropout': 0.0100967297}},\n",
       "  'depth': 10},\n",
       " 'summary_network_settings': {'dropout': 0.0100967297,\n",
       "  'num_seeds': 2,\n",
       "  'summary_dim': 32,\n",
       "  'embed_dim': (128, 128)},\n",
       " 'batch_size': 16,\n",
       " 'learning_rate': 0.0004916,\n",
       " 'param_names': ['A', 'tau', 'mu_c', 'mu_r', 'b']}"
      ]
     },
     "execution_count": 15,
     "metadata": {},
     "output_type": "execute_result"
    }
   ],
   "source": [
    "network_name = 'dmc_optimized_winsim_priors_sdr'\n",
    "\n",
    "model_specs_path = parent_dir + '/model_specs/model_specs_' + network_name + '.pickle'\n",
    "with open(model_specs_path, 'rb') as file:\n",
    "    model_specs = pickle.load(file)\n",
    "\n",
    "model_specs"
   ]
  },
  {
   "cell_type": "code",
   "execution_count": null,
   "id": "b2afea64",
   "metadata": {},
   "outputs": [],
   "source": []
  }
 ],
 "metadata": {
  "kernelspec": {
   "display_name": "bf_new",
   "language": "python",
   "name": "python3"
  },
  "language_info": {
   "codemirror_mode": {
    "name": "ipython",
    "version": 3
   },
   "file_extension": ".py",
   "mimetype": "text/x-python",
   "name": "python",
   "nbconvert_exporter": "python",
   "pygments_lexer": "ipython3",
   "version": "3.11.11"
  }
 },
 "nbformat": 4,
 "nbformat_minor": 5
}
