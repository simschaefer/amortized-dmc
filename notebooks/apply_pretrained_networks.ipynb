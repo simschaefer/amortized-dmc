{
 "cells": [
  {
   "cell_type": "markdown",
   "id": "73c687e6",
   "metadata": {},
   "source": [
    "# Applying Pretrained Networks to Empirical Data"
   ]
  },
  {
   "cell_type": "markdown",
   "id": "85de39d1",
   "metadata": {},
   "source": [
    "First of all, we have to load all packages:"
   ]
  },
  {
   "cell_type": "code",
   "execution_count": null,
   "id": "09591df5",
   "metadata": {},
   "outputs": [],
   "source": [
    "import sys\n",
    "\n",
    "sys.path.append(\"../../BayesFlow\")\n",
    "sys.path.append(\"../\")\n",
    "\n",
    "import os\n",
    "if \"KERAS_BACKEND\" not in os.environ:\n",
    "    # set this to \"torch\", \"tensorflow\", or \"jax\"\n",
    "    os.environ[\"KERAS_BACKEND\"] = \"torch\"\n",
    "\n",
    "import numpy as np\n",
    "import pickle\n",
    "import pandas as pd\n",
    "import matplotlib.pyplot as plt\n",
    "import seaborn as sns\n",
    "\n",
    "\n",
    "import keras\n",
    "\n",
    "import bayesflow as bf\n",
    "\n",
    "from dmc import dmc_helpers, DMC"
   ]
  },
  {
   "cell_type": "markdown",
   "id": "9d45ebf5",
   "metadata": {},
   "source": [
    "After training the networks, the checkpoints are stored as `.keras`-files. In our workflow, we trained four sets of networks on either *initial priors* or *updated priors* and with either fixed or estimated trial-to-trial variability of the non-decision time. All corresponding networks can be found in the folder `training_checkpoints/`:\n",
    "\n",
    "* `initial_priors_sdr_fixed.keras`\n",
    "* `initial_priors_sdr_estimated.keras`\n",
    "* `updated_priors_sdr_fixed.keras`\n",
    "* `updated_priors_sdr_estimated.keras`\n"
   ]
  },
  {
   "cell_type": "markdown",
   "id": "81d41771",
   "metadata": {},
   "source": [
    "You can choose which network you like to apply by loading the corresponding file, e.g.:"
   ]
  },
  {
   "cell_type": "code",
   "execution_count": 4,
   "id": "4af8787e",
   "metadata": {},
   "outputs": [
    {
     "name": "stderr",
     "output_type": "stream",
     "text": [
      "/home/administrator/miniforge3/envs/bf_new/lib/python3.11/site-packages/keras/src/saving/saving_lib.py:757: UserWarning: Skipping variable loading for optimizer 'adam', because it has 1 variables whereas the saved optimizer has 159 variables. \n",
      "  saveable.load_own_variables(weights_store.get(inner_path))\n"
     ]
    }
   ],
   "source": [
    "approximator = keras.saving.load_model('../training_checkpoints/updated_priors_sdr_estimated.keras')"
   ]
  },
  {
   "cell_type": "markdown",
   "id": "0f9d9d4d",
   "metadata": {},
   "source": [
    "The `approximator` contains everything we need to get posterior samples for a given data set."
   ]
  },
  {
   "cell_type": "code",
   "execution_count": null,
   "id": "8091bc35",
   "metadata": {},
   "outputs": [],
   "source": []
  },
  {
   "cell_type": "markdown",
   "id": "7740ea69",
   "metadata": {},
   "source": []
  },
  {
   "cell_type": "code",
   "execution_count": null,
   "id": "a5e276c4",
   "metadata": {},
   "outputs": [],
   "source": []
  }
 ],
 "metadata": {
  "kernelspec": {
   "display_name": "bf_new",
   "language": "python",
   "name": "python3"
  },
  "language_info": {
   "codemirror_mode": {
    "name": "ipython",
    "version": 3
   },
   "file_extension": ".py",
   "mimetype": "text/x-python",
   "name": "python",
   "nbconvert_exporter": "python",
   "pygments_lexer": "ipython3",
   "version": "3.11.11"
  }
 },
 "nbformat": 4,
 "nbformat_minor": 5
}
