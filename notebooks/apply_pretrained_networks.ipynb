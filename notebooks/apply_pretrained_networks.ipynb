{
 "cells": [
  {
   "cell_type": "markdown",
   "id": "73c687e6",
   "metadata": {},
   "source": [
    "# Applying Pretrained Networks to Empirical Data"
   ]
  },
  {
   "cell_type": "code",
   "execution_count": null,
   "id": "a5e276c4",
   "metadata": {},
   "outputs": [],
   "source": []
  }
 ],
 "metadata": {
  "language_info": {
   "name": "python"
  }
 },
 "nbformat": 4,
 "nbformat_minor": 5
}
