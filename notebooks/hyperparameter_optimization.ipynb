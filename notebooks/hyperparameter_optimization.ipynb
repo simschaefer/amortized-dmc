{
 "cells": [
  {
   "cell_type": "markdown",
   "id": "7ae60ef7",
   "metadata": {},
   "source": [
    "# Hyperparameter Optimization"
   ]
  },
  {
   "cell_type": "markdown",
   "id": "86dd0262",
   "metadata": {},
   "source": [
    "To optimize the hyperparameters of the inference and summary networks, we use [Optuna](https://www.optuna.org), a framework-agnostic hyperparameter optimization library that efficiently minimizes custom objective functions to identify optimal parameter settings. Our optimization process involves four three steps:\n",
    "\n",
    "1. **Data Simulation.** We simulate a large *training data set* that will be used throughout all subsequent training phases as well as a smaller *validation data set* that will be used to assess the outcome metric.\n",
    "\n",
    "2. **Defining the Objective Function and Search Space.** The objective function takes a set of hyperparameters, evaluates the outcome of interest and returns a single value. In our case, the function includes a whole offline training phase on the *training data set* and computes a weighted sum of metrics capturing parameter recovery, simulation-based calibration, and posterior contraction with respect to the *validation data set*. Within the objective function, the search space has to be defined by specifying a range of possible values for each hyperparameter.\n",
    "\n",
    "\n",
    "3. **Run Optuna Trials**. During multiple trials, Optuna iteratively proposes and evaluates hyperparameter sets to minimize the objective function. Each trial involves one execution of the objective function. In our case, that is a whole offline training procedure on the same pre-simulated *training data set* and the computation of the weighted sum applying the trained network on the *validation data set*. Based on this score, Optuna updates the parameter proposals for the next trial, which ideally leads to a stepwise minimization of the objective function.\n",
    "\n",
    "After running all trials, we can identify which parameter configurations yielded the lowest objective value and visualize the optimization results. \n",
    "\n",
    "Before starting with these steps, we have to load all libraries:"
   ]
  },
  {
   "cell_type": "code",
   "execution_count": null,
   "id": "dd9718bf",
   "metadata": {},
   "outputs": [
    {
     "name": "stderr",
     "output_type": "stream",
     "text": [
      "/home/administrator/miniforge3/envs/bf_new/lib/python3.11/site-packages/tqdm/auto.py:21: TqdmWarning: IProgress not found. Please update jupyter and ipywidgets. See https://ipywidgets.readthedocs.io/en/stable/user_install.html\n",
      "  from .autonotebook import tqdm as notebook_tqdm\n",
      "INFO:bayesflow:Using backend 'torch'\n",
      "WARNING:bayesflow:\n",
      "When using torch backend, we need to disable autograd by default to avoid excessive memory usage. Use\n",
      "\n",
      "with torch.enable_grad():\n",
      "    ...\n",
      "\n",
      "in contexts where you need gradients (e.g. custom training loops).\n"
     ]
    }
   ],
   "source": [
    "import sys\n",
    "sys.path.append(\"../../BayesFlow\")\n",
    "sys.path.append(\"../\")\n",
    "\n",
    "import os\n",
    "import torch \n",
    "\n",
    "# optional if you have a GPU:\n",
    "#print(\"CUDA available:\", torch.cuda.is_available(), flush=True)\n",
    "#print(torch.cuda.device_count(), flush=True)\n",
    "#print(\"Using device:\", torch.cuda.get_device_name(0))\n",
    "\n",
    "if \"KERAS_BACKEND\" not in os.environ:\n",
    "    # set this to \"torch\", \"tensorflow\", or \"jax\"\n",
    "    os.environ[\"KERAS_BACKEND\"] = \"torch\"\n",
    "\n",
    "import numpy as np\n",
    "import pickle\n",
    "\n",
    "import keras\n",
    "\n",
    "import optuna\n",
    "\n",
    "import bayesflow as bf\n",
    "\n"
   ]
  },
  {
   "cell_type": "markdown",
   "id": "cca4bac3",
   "metadata": {},
   "source": [
    "## Data Simulation"
   ]
  },
  {
   "cell_type": "markdown",
   "id": "27758ace",
   "metadata": {},
   "source": [
    "To train and evaluate our models, we simulate reaction time (RT) and accuracy data using the Diffusion Model for Conflict Tasks (DMC), as described in the [DMC Introduction](./dmc_introduction.ipynb).\n",
    "\n",
    "To ensure consistent dataset sizes, we set the `fixed_num_obs` parameter. Without this, the simulator would generate datasets with a random number of trials that stays consistent across all data sets. This could bias the optimization process toward hyperparameter settings that are overly specific to a particular trial count. Therefore, it’s important to select a `fixed_num_obs` value that closely reflects the characteristics of the target application. We aimed to apply the hyperparameter setting to a varying trial number between 50 and 1000 and therefore used a medium number of 500 trials for the hyperparameter optimization."
   ]
  },
  {
   "cell_type": "code",
   "execution_count": 48,
   "id": "0040949e",
   "metadata": {},
   "outputs": [],
   "source": [
    "from dmc import DMC, dmc_helpers\n",
    "\n",
    "simulator = DMC(prior_means=np.array([70.8, 114.71, 0.71, 332.34, 98.36, 43.36]),\n",
    "                prior_sds=np.array([19.42, 40.08, 0.14, 52.07, 30.05, 9.19]),\n",
    "                sdr_fixed=None,\n",
    "                tmax=1500, \n",
    "                contamination_probability=None,\n",
    "                fixed_num_obs=500,\n",
    "                param_names=(\"A\", \"tau\", \"mu_c\", \"mu_r\", \"b\", \"sd_r\"))"
   ]
  },
  {
   "cell_type": "markdown",
   "id": "7bc5cf44",
   "metadata": {},
   "source": [
    "We are now able to simulate multiple data sets efficiently by simply running:"
   ]
  },
  {
   "cell_type": "code",
   "execution_count": 49,
   "id": "c00cfe8e",
   "metadata": {},
   "outputs": [],
   "source": [
    "n_data_sets = 10\n",
    "\n",
    "test_data = simulator.sample(n_data_sets)"
   ]
  },
  {
   "cell_type": "markdown",
   "id": "a2e7c9df",
   "metadata": {},
   "source": [
    "We can inspect the shapes of the dataset to verify that the simulation ran correctly:"
   ]
  },
  {
   "cell_type": "code",
   "execution_count": 50,
   "id": "d5be7862",
   "metadata": {},
   "outputs": [
    {
     "name": "stdout",
     "output_type": "stream",
     "text": [
      "A: (10, 1)\n",
      "tau: (10, 1)\n",
      "mu_c: (10, 1)\n",
      "mu_r: (10, 1)\n",
      "sd_r: (10, 1)\n",
      "b: (10, 1)\n",
      "rt: (10, 500, 1)\n",
      "accuracy: (10, 500, 1)\n",
      "conditions: (10, 500, 1)\n",
      "num_obs: (10, 1)\n"
     ]
    }
   ],
   "source": [
    "for key, i in test_data.items():\n",
    "    print(f'{key}: {i.shape}')"
   ]
  },
  {
   "cell_type": "markdown",
   "id": "927f717a",
   "metadata": {},
   "source": [
    "For the optimization algorithm, we simulated 50,000 data sets for the training data set and 1000 data sets for the validation data set. However, for demonstration purposes we only simulate 100 training data sets and 100 validation data sets:"
   ]
  },
  {
   "cell_type": "code",
   "execution_count": 24,
   "id": "febfb6dd",
   "metadata": {},
   "outputs": [],
   "source": [
    "train_data = simulator.sample(100)\n",
    "\n",
    "val_data = simulator.sample(100)"
   ]
  },
  {
   "cell_type": "markdown",
   "id": "f8651231",
   "metadata": {},
   "source": [
    "## Defining the Objective Function and Search Space"
   ]
  },
  {
   "cell_type": "markdown",
   "id": "0a652987",
   "metadata": {},
   "source": [
    "The **objective function** is the core component of the Optuna optimization process. It defines the discrepancy measure that the algorithm seeks to minimize across multiple training iterations. Following the approach described in Schaefer et al. (2025), we employ a weighted sum of three key metrics: \n",
    "\n",
    "1. **Normalized Root Mean Squared Error (NRMSE)** – Measures parameter recovery accuracy, i.e., how well the inferred parameters match the true parameters across simulations. Lower NRMSE indicates better recovery.\n",
    "\n",
    "2. **Expected Calibration Error (ECE)** – Evaluates simulation-based calibration. A smaller ECE means the approximated posterior distributions are better calibrated.\n",
    "\n",
    "2. **Contraction Factor (CF)** – Reflects the Posterior Contraction (PC), i.e., how concentrated the posterior is around the true parameters compared to the prior variance. A higher Posterior Contraction indicates higher reduction of uncertainty. To allign the direction of interpretation with that of the remaining metrics, we compute CF as the inverse Posterior Contraction: $1-PC$. That is, a low CF indicates a high reduction of uncertainty.\n",
    "\n",
    "We compute the weighted sum as:"
   ]
  },
  {
   "cell_type": "markdown",
   "id": "52bcf61e",
   "metadata": {},
   "source": [
    "\\begin{equation}\n",
    "L = w_{1} \\overline{\\text{NRMSE}} + w_2 \\overline{\\text{\\text{ECE}}} + w_3 \\overline{\\text{CF}} \n",
    "\\end{equation}"
   ]
  },
  {
   "cell_type": "markdown",
   "id": "763b0806",
   "metadata": {},
   "source": [
    "The objective function executes the following steps:\n",
    "\n",
    "1. **Define Search Space**. We have to suggest values for each specified parameter. We can use the functions \n",
    "  * `trial.suggest_float()` for continous variables, \n",
    "  * `trial.suggest_int()` for integer variables (chooses values between a minimum and maximum) and \n",
    "  * `trial.suggest_categorical` (suggest only predefined levels). \n",
    "2. **Define Inference and Summary Networks**. Each network is set up using the suggested values as hyperparameters. \n",
    "3. **Train Networks**. The networks are trained in an offline training procedure using the suggest values.\n",
    "4. **Compute weighted sum L**. We first compute the default diagnostics (NRMSE, ECE and PC). Based on these metrics, we compute the weighted sum L using the function `dmc_helpers.weighted_metric_sum()`. Note that the objective function only returns a single value for L."
   ]
  },
  {
   "cell_type": "markdown",
   "id": "7b45aa76",
   "metadata": {},
   "source": [
    "In earlier training phases, we observed that the loss for our model reaches a relatively low level after about 50 epochs, with only marginal improvements beyond that point. Taken into account that the training phase will be repeated in each Optuna-trial, we decided to choose this number. However, for demonstration, we only run 10 training epochs:"
   ]
  },
  {
   "cell_type": "code",
   "execution_count": null,
   "id": "cb6e36e8",
   "metadata": {},
   "outputs": [],
   "source": [
    "def objective(trial, epochs=10):\n",
    "\n",
    "    # Define Search Space\n",
    "    dropout = trial.suggest_float(\"dropout\", 0.01, 0.3)\n",
    "    initial_learning_rate = trial.suggest_float(\"lr\", 1e-4, 1e-3) \n",
    "    num_seeds = trial.suggest_int(\"num_seeds\", 1, 8)\n",
    "    batch_size = trial.suggest_categorical(\"batch_size\", [16, 32, 64, 128])\n",
    "    embed_dim = trial.suggest_categorical(\"embed_dim\", [64, 128])\n",
    "    summary_dim = trial.suggest_int(\"summary_dim\", 4, 32)\n",
    "\n",
    "    # Define the adapter\n",
    "    adapter = (\n",
    "        bf.adapters.Adapter()\n",
    "        .convert_dtype(\"float64\", \"float32\")\n",
    "        .sqrt(\"num_obs\")\n",
    "        .concatenate([\"A\", \"tau\", \"mu_c\", \"mu_r\", \"b\", 'sd_r'], into=\"inference_variables\")\n",
    "        .concatenate([\"rt\", \"accuracy\", \"conditions\"], into=\"summary_variables\")\n",
    "        .standardize(include=\"inference_variables\")\n",
    "        .rename(\"num_obs\", \"inference_conditions\")\n",
    "        )\n",
    "\n",
    "    # Define inference net \n",
    "    inference_net = bf.networks.FlowMatching(coupling_kwargs=dict(subnet_kwargs=dict(dropout=dropout)))\n",
    "\n",
    "    # Define summary net\n",
    "    summary_net = bf.networks.SetTransformer(summary_dim=summary_dim, num_seeds=num_seeds, dropout=dropout, embed_dim=(embed_dim, embed_dim))\n",
    "    \n",
    "    workflow = bf.BasicWorkflow(\n",
    "        simulator=simulator,\n",
    "        adapter=adapter,\n",
    "        initial_learning_rate=initial_learning_rate,\n",
    "        inference_network=inference_net,\n",
    "        summary_network=summary_net,\n",
    "        checkpoint_filepath= '../data_complete/optuna_checkpoints',\n",
    "        checkpoint_name= f'network_{round(dropout, 2)}_{round(initial_learning_rate, 2)}_{num_seeds}_{batch_size}_{embed_dim}_{summary_dim}',\n",
    "        inference_variables=[\"A\", \"tau\", \"mu_c\", \"mu_r\", \"b\", 'sd_r'])\n",
    "    \n",
    "    # Start Offline Training Procedure\n",
    "    history = workflow.fit_offline(train_data, epochs=epochs, batch_size=batch_size, validation_data=val_data, verbose=0)\n",
    "    \n",
    "    # Compute Metrics Recovery, SBC, PC\n",
    "    metrics_table=workflow.compute_default_diagnostics(test_data=val_data)\n",
    "\n",
    "    # Computed weighted sum L\n",
    "    L = dmc_helpers.weighted_metric_sum(metrics_table, weight_recovery=1, weight_pc=1, weight_sbc=1)\n",
    "    \n",
    "    return L\n"
   ]
  },
  {
   "cell_type": "markdown",
   "id": "1c9d26e4",
   "metadata": {},
   "source": [
    "We now create a study object:"
   ]
  },
  {
   "cell_type": "code",
   "execution_count": 30,
   "id": "7fb94c2f",
   "metadata": {},
   "outputs": [
    {
     "name": "stderr",
     "output_type": "stream",
     "text": [
      "[I 2025-07-18 10:30:04,645] A new study created in memory with name: no-name-71fe456a-2ee9-4b1f-be3c-32238f2048c2\n"
     ]
    }
   ],
   "source": [
    "\n",
    "study = optuna.create_study(direction=\"minimize\")\n"
   ]
  },
  {
   "cell_type": "markdown",
   "id": "4bdffcdd",
   "metadata": {},
   "source": [
    "We can now execute the study across multiple trials. Be aware that this process can be computationally intensive, and runtime will vary depending on the hardware setup. In Schaefer et al. (2025), the optimization involved 50 trials using 50 training epochs over 50,000 training datasets and 1,000 validation datasets, with the full computation taking approximately 45 hours on an NVIDIA A100 SXM4 80 GB GPU. For demonstration purposes here, we limit the run to 10 trials to keep the runtime manageable:"
   ]
  },
  {
   "cell_type": "code",
   "execution_count": 31,
   "id": "03388fec",
   "metadata": {},
   "outputs": [
    {
     "name": "stderr",
     "output_type": "stream",
     "text": [
      "INFO:bayesflow:Fitting on dataset instance of OfflineDataset.\n",
      "INFO:bayesflow:Building on a test batch.\n",
      "INFO:bayesflow:Training is now finished.\n",
      "            You can find the trained approximator at '../data_complete/optuna_checkpoints/network_0.17_0.0_8_32_64_13.network_0.17_0.0_8_32_64_13.keras'.\n",
      "            To load it, use approximator = keras.saving.load_model(...).\n",
      "[I 2025-07-18 10:31:46,174] Trial 0 finished with value: 1.5426481802641618 and parameters: {'dropout': 0.17131354078376448, 'lr': 0.00045175605420312196, 'num_seeds': 8, 'batch_size': 32, 'embed_dim': 64, 'summary_dim': 13}. Best is trial 0 with value: 1.5426481802641618.\n",
      "INFO:bayesflow:Fitting on dataset instance of OfflineDataset.\n",
      "INFO:bayesflow:Building on a test batch.\n",
      "INFO:bayesflow:Training is now finished.\n",
      "            You can find the trained approximator at '../data_complete/optuna_checkpoints/network_0.24_0.0_8_32_64_12.network_0.24_0.0_8_32_64_12.keras'.\n",
      "            To load it, use approximator = keras.saving.load_model(...).\n",
      "[I 2025-07-18 10:33:24,644] Trial 1 finished with value: 1.6444152613650513 and parameters: {'dropout': 0.23879058311900653, 'lr': 0.0005448012737066292, 'num_seeds': 8, 'batch_size': 32, 'embed_dim': 64, 'summary_dim': 12}. Best is trial 0 with value: 1.5426481802641618.\n",
      "INFO:bayesflow:Fitting on dataset instance of OfflineDataset.\n",
      "INFO:bayesflow:Building on a test batch.\n",
      "INFO:bayesflow:Training is now finished.\n",
      "            You can find the trained approximator at '../data_complete/optuna_checkpoints/network_0.29_0.0_7_32_64_5.network_0.29_0.0_7_32_64_5.keras'.\n",
      "            To load it, use approximator = keras.saving.load_model(...).\n",
      "[I 2025-07-18 10:35:21,477] Trial 2 finished with value: 1.708579034261514 and parameters: {'dropout': 0.29133921847363764, 'lr': 0.0009537255616951016, 'num_seeds': 7, 'batch_size': 32, 'embed_dim': 64, 'summary_dim': 5}. Best is trial 0 with value: 1.5426481802641618.\n",
      "INFO:bayesflow:Fitting on dataset instance of OfflineDataset.\n",
      "INFO:bayesflow:Building on a test batch.\n",
      "INFO:bayesflow:Training is now finished.\n",
      "            You can find the trained approximator at '../data_complete/optuna_checkpoints/network_0.02_0.0_4_16_128_15.network_0.02_0.0_4_16_128_15.keras'.\n",
      "            To load it, use approximator = keras.saving.load_model(...).\n",
      "[I 2025-07-18 10:37:19,129] Trial 3 finished with value: 1.5258185549992074 and parameters: {'dropout': 0.020081546790226237, 'lr': 0.00036411760934581893, 'num_seeds': 4, 'batch_size': 16, 'embed_dim': 128, 'summary_dim': 15}. Best is trial 3 with value: 1.5258185549992074.\n",
      "INFO:bayesflow:Fitting on dataset instance of OfflineDataset.\n",
      "INFO:bayesflow:Building on a test batch.\n",
      "INFO:bayesflow:Training is now finished.\n",
      "            You can find the trained approximator at '../data_complete/optuna_checkpoints/network_0.27_0.0_4_16_128_23.network_0.27_0.0_4_16_128_23.keras'.\n",
      "            To load it, use approximator = keras.saving.load_model(...).\n",
      "[I 2025-07-18 10:39:08,120] Trial 4 finished with value: 1.4344895329407834 and parameters: {'dropout': 0.26865304748694374, 'lr': 0.0005948312875696228, 'num_seeds': 4, 'batch_size': 16, 'embed_dim': 128, 'summary_dim': 23}. Best is trial 4 with value: 1.4344895329407834.\n",
      "INFO:bayesflow:Fitting on dataset instance of OfflineDataset.\n",
      "INFO:bayesflow:Building on a test batch.\n",
      "INFO:bayesflow:Training is now finished.\n",
      "            You can find the trained approximator at '../data_complete/optuna_checkpoints/network_0.27_0.0_2_16_128_14.network_0.27_0.0_2_16_128_14.keras'.\n",
      "            To load it, use approximator = keras.saving.load_model(...).\n",
      "[I 2025-07-18 10:40:57,143] Trial 5 finished with value: 1.528655787859806 and parameters: {'dropout': 0.26634988088339207, 'lr': 0.00032599992661028437, 'num_seeds': 2, 'batch_size': 16, 'embed_dim': 128, 'summary_dim': 14}. Best is trial 4 with value: 1.4344895329407834.\n",
      "INFO:bayesflow:Fitting on dataset instance of OfflineDataset.\n",
      "INFO:bayesflow:Building on a test batch.\n",
      "INFO:bayesflow:Training is now finished.\n",
      "            You can find the trained approximator at '../data_complete/optuna_checkpoints/network_0.25_0.0_4_128_64_24.network_0.25_0.0_4_128_64_24.keras'.\n",
      "            To load it, use approximator = keras.saving.load_model(...).\n",
      "[I 2025-07-18 10:42:46,451] Trial 6 finished with value: 1.8901696009525688 and parameters: {'dropout': 0.24844578274353268, 'lr': 0.0006853295129385055, 'num_seeds': 4, 'batch_size': 128, 'embed_dim': 64, 'summary_dim': 24}. Best is trial 4 with value: 1.4344895329407834.\n",
      "INFO:bayesflow:Fitting on dataset instance of OfflineDataset.\n",
      "INFO:bayesflow:Building on a test batch.\n",
      "INFO:bayesflow:Training is now finished.\n",
      "            You can find the trained approximator at '../data_complete/optuna_checkpoints/network_0.05_0.0_4_64_64_18.network_0.05_0.0_4_64_64_18.keras'.\n",
      "            To load it, use approximator = keras.saving.load_model(...).\n",
      "[I 2025-07-18 10:44:48,707] Trial 7 finished with value: 2.746864985262636 and parameters: {'dropout': 0.053217562630864086, 'lr': 0.00011158025461757156, 'num_seeds': 4, 'batch_size': 64, 'embed_dim': 64, 'summary_dim': 18}. Best is trial 4 with value: 1.4344895329407834.\n",
      "INFO:bayesflow:Fitting on dataset instance of OfflineDataset.\n",
      "INFO:bayesflow:Building on a test batch.\n",
      "INFO:bayesflow:Training is now finished.\n",
      "            You can find the trained approximator at '../data_complete/optuna_checkpoints/network_0.11_0.0_3_128_64_26.network_0.11_0.0_3_128_64_26.keras'.\n",
      "            To load it, use approximator = keras.saving.load_model(...).\n",
      "[I 2025-07-18 10:46:51,787] Trial 8 finished with value: 1.9459762325789847 and parameters: {'dropout': 0.11205946852844964, 'lr': 0.00041707990998522026, 'num_seeds': 3, 'batch_size': 128, 'embed_dim': 64, 'summary_dim': 26}. Best is trial 4 with value: 1.4344895329407834.\n",
      "INFO:bayesflow:Fitting on dataset instance of OfflineDataset.\n",
      "INFO:bayesflow:Building on a test batch.\n",
      "INFO:bayesflow:Training is now finished.\n",
      "            You can find the trained approximator at '../data_complete/optuna_checkpoints/network_0.03_0.0_5_64_128_21.network_0.03_0.0_5_64_128_21.keras'.\n",
      "            To load it, use approximator = keras.saving.load_model(...).\n",
      "[I 2025-07-18 10:49:00,207] Trial 9 finished with value: 1.7556632976840783 and parameters: {'dropout': 0.033517052601212405, 'lr': 0.0002833789328393291, 'num_seeds': 5, 'batch_size': 64, 'embed_dim': 128, 'summary_dim': 21}. Best is trial 4 with value: 1.4344895329407834.\n"
     ]
    },
    {
     "name": "stdout",
     "output_type": "stream",
     "text": [
      "Outcome Metric: 1.4344895329407834\n",
      "Best hyperparameters: {'dropout': 0.26865304748694374, 'lr': 0.0005948312875696228, 'num_seeds': 4, 'batch_size': 16, 'embed_dim': 128, 'summary_dim': 23}\n"
     ]
    }
   ],
   "source": [
    "\n",
    "study.optimize(objective, n_trials=10)\n",
    "\n",
    "trial = study.best_trial\n",
    "print(\"Outcome Metric: {}\".format(trial.value))\n",
    "print(\"Best hyperparameters: {}\".format(trial.params))\n",
    "\n"
   ]
  },
  {
   "cell_type": "markdown",
   "id": "42439fcc",
   "metadata": {},
   "source": [
    "After running the study, we can inspect the search space by plotting the objective function as a function of parameters:"
   ]
  },
  {
   "cell_type": "code",
   "execution_count": 51,
   "id": "a4a0f833",
   "metadata": {},
   "outputs": [
    {
     "data": {
      "application/vnd.plotly.v1+json": {
       "config": {
        "plotlyServerURL": "https://plot.ly"
       },
       "data": [
        {
         "marker": {
          "color": [
           0,
           1,
           2,
           3,
           4,
           5,
           6,
           7,
           8,
           9
          ],
          "colorbar": {
           "title": {
            "text": "Trial"
           },
           "x": 1,
           "xpad": 40
          },
          "colorscale": [
           [
            0,
            "rgb(247,251,255)"
           ],
           [
            0.125,
            "rgb(222,235,247)"
           ],
           [
            0.25,
            "rgb(198,219,239)"
           ],
           [
            0.375,
            "rgb(158,202,225)"
           ],
           [
            0.5,
            "rgb(107,174,214)"
           ],
           [
            0.625,
            "rgb(66,146,198)"
           ],
           [
            0.75,
            "rgb(33,113,181)"
           ],
           [
            0.875,
            "rgb(8,81,156)"
           ],
           [
            1,
            "rgb(8,48,107)"
           ]
          ],
          "line": {
           "color": "Grey",
           "width": 0.5
          },
          "showscale": true
         },
         "mode": "markers",
         "name": "Feasible Trial",
         "showlegend": false,
         "type": "scatter",
         "x": [
          32,
          32,
          32,
          16,
          16,
          16,
          128,
          64,
          128,
          64
         ],
         "xaxis": "x",
         "y": [
          1.5426481802641618,
          1.6444152613650513,
          1.708579034261514,
          1.5258185549992074,
          1.4344895329407834,
          1.528655787859806,
          1.8901696009525688,
          2.746864985262636,
          1.9459762325789847,
          1.7556632976840783
         ],
         "yaxis": "y"
        },
        {
         "marker": {
          "color": [
           0,
           1,
           2,
           3,
           4,
           5,
           6,
           7,
           8,
           9
          ],
          "colorbar": {
           "title": {
            "text": "Trial"
           },
           "x": 1,
           "xpad": 40
          },
          "colorscale": [
           [
            0,
            "rgb(247,251,255)"
           ],
           [
            0.125,
            "rgb(222,235,247)"
           ],
           [
            0.25,
            "rgb(198,219,239)"
           ],
           [
            0.375,
            "rgb(158,202,225)"
           ],
           [
            0.5,
            "rgb(107,174,214)"
           ],
           [
            0.625,
            "rgb(66,146,198)"
           ],
           [
            0.75,
            "rgb(33,113,181)"
           ],
           [
            0.875,
            "rgb(8,81,156)"
           ],
           [
            1,
            "rgb(8,48,107)"
           ]
          ],
          "line": {
           "color": "Grey",
           "width": 0.5
          },
          "showscale": false
         },
         "mode": "markers",
         "name": "Feasible Trial",
         "showlegend": false,
         "type": "scatter",
         "x": [
          0.17131354078376448,
          0.23879058311900653,
          0.29133921847363764,
          0.020081546790226237,
          0.26865304748694374,
          0.26634988088339207,
          0.24844578274353268,
          0.053217562630864086,
          0.11205946852844964,
          0.033517052601212405
         ],
         "xaxis": "x2",
         "y": [
          1.5426481802641618,
          1.6444152613650513,
          1.708579034261514,
          1.5258185549992074,
          1.4344895329407834,
          1.528655787859806,
          1.8901696009525688,
          2.746864985262636,
          1.9459762325789847,
          1.7556632976840783
         ],
         "yaxis": "y2"
        },
        {
         "marker": {
          "color": [
           0,
           1,
           2,
           3,
           4,
           5,
           6,
           7,
           8,
           9
          ],
          "colorbar": {
           "title": {
            "text": "Trial"
           },
           "x": 1,
           "xpad": 40
          },
          "colorscale": [
           [
            0,
            "rgb(247,251,255)"
           ],
           [
            0.125,
            "rgb(222,235,247)"
           ],
           [
            0.25,
            "rgb(198,219,239)"
           ],
           [
            0.375,
            "rgb(158,202,225)"
           ],
           [
            0.5,
            "rgb(107,174,214)"
           ],
           [
            0.625,
            "rgb(66,146,198)"
           ],
           [
            0.75,
            "rgb(33,113,181)"
           ],
           [
            0.875,
            "rgb(8,81,156)"
           ],
           [
            1,
            "rgb(8,48,107)"
           ]
          ],
          "line": {
           "color": "Grey",
           "width": 0.5
          },
          "showscale": false
         },
         "mode": "markers",
         "name": "Feasible Trial",
         "showlegend": false,
         "type": "scatter",
         "x": [
          64,
          64,
          64,
          128,
          128,
          128,
          64,
          64,
          64,
          128
         ],
         "xaxis": "x3",
         "y": [
          1.5426481802641618,
          1.6444152613650513,
          1.708579034261514,
          1.5258185549992074,
          1.4344895329407834,
          1.528655787859806,
          1.8901696009525688,
          2.746864985262636,
          1.9459762325789847,
          1.7556632976840783
         ],
         "yaxis": "y3"
        },
        {
         "marker": {
          "color": [
           0,
           1,
           2,
           3,
           4,
           5,
           6,
           7,
           8,
           9
          ],
          "colorbar": {
           "title": {
            "text": "Trial"
           },
           "x": 1,
           "xpad": 40
          },
          "colorscale": [
           [
            0,
            "rgb(247,251,255)"
           ],
           [
            0.125,
            "rgb(222,235,247)"
           ],
           [
            0.25,
            "rgb(198,219,239)"
           ],
           [
            0.375,
            "rgb(158,202,225)"
           ],
           [
            0.5,
            "rgb(107,174,214)"
           ],
           [
            0.625,
            "rgb(66,146,198)"
           ],
           [
            0.75,
            "rgb(33,113,181)"
           ],
           [
            0.875,
            "rgb(8,81,156)"
           ],
           [
            1,
            "rgb(8,48,107)"
           ]
          ],
          "line": {
           "color": "Grey",
           "width": 0.5
          },
          "showscale": false
         },
         "mode": "markers",
         "name": "Feasible Trial",
         "showlegend": false,
         "type": "scatter",
         "x": [
          0.00045175605420312196,
          0.0005448012737066292,
          0.0009537255616951016,
          0.00036411760934581893,
          0.0005948312875696228,
          0.00032599992661028437,
          0.0006853295129385055,
          0.00011158025461757156,
          0.00041707990998522026,
          0.0002833789328393291
         ],
         "xaxis": "x4",
         "y": [
          1.5426481802641618,
          1.6444152613650513,
          1.708579034261514,
          1.5258185549992074,
          1.4344895329407834,
          1.528655787859806,
          1.8901696009525688,
          2.746864985262636,
          1.9459762325789847,
          1.7556632976840783
         ],
         "yaxis": "y4"
        },
        {
         "marker": {
          "color": [
           0,
           1,
           2,
           3,
           4,
           5,
           6,
           7,
           8,
           9
          ],
          "colorbar": {
           "title": {
            "text": "Trial"
           },
           "x": 1,
           "xpad": 40
          },
          "colorscale": [
           [
            0,
            "rgb(247,251,255)"
           ],
           [
            0.125,
            "rgb(222,235,247)"
           ],
           [
            0.25,
            "rgb(198,219,239)"
           ],
           [
            0.375,
            "rgb(158,202,225)"
           ],
           [
            0.5,
            "rgb(107,174,214)"
           ],
           [
            0.625,
            "rgb(66,146,198)"
           ],
           [
            0.75,
            "rgb(33,113,181)"
           ],
           [
            0.875,
            "rgb(8,81,156)"
           ],
           [
            1,
            "rgb(8,48,107)"
           ]
          ],
          "line": {
           "color": "Grey",
           "width": 0.5
          },
          "showscale": false
         },
         "mode": "markers",
         "name": "Feasible Trial",
         "showlegend": false,
         "type": "scatter",
         "x": [
          8,
          8,
          7,
          4,
          4,
          2,
          4,
          4,
          3,
          5
         ],
         "xaxis": "x5",
         "y": [
          1.5426481802641618,
          1.6444152613650513,
          1.708579034261514,
          1.5258185549992074,
          1.4344895329407834,
          1.528655787859806,
          1.8901696009525688,
          2.746864985262636,
          1.9459762325789847,
          1.7556632976840783
         ],
         "yaxis": "y5"
        },
        {
         "marker": {
          "color": [
           0,
           1,
           2,
           3,
           4,
           5,
           6,
           7,
           8,
           9
          ],
          "colorbar": {
           "title": {
            "text": "Trial"
           },
           "x": 1,
           "xpad": 40
          },
          "colorscale": [
           [
            0,
            "rgb(247,251,255)"
           ],
           [
            0.125,
            "rgb(222,235,247)"
           ],
           [
            0.25,
            "rgb(198,219,239)"
           ],
           [
            0.375,
            "rgb(158,202,225)"
           ],
           [
            0.5,
            "rgb(107,174,214)"
           ],
           [
            0.625,
            "rgb(66,146,198)"
           ],
           [
            0.75,
            "rgb(33,113,181)"
           ],
           [
            0.875,
            "rgb(8,81,156)"
           ],
           [
            1,
            "rgb(8,48,107)"
           ]
          ],
          "line": {
           "color": "Grey",
           "width": 0.5
          },
          "showscale": false
         },
         "mode": "markers",
         "name": "Feasible Trial",
         "showlegend": false,
         "type": "scatter",
         "x": [
          13,
          12,
          5,
          15,
          23,
          14,
          24,
          18,
          26,
          21
         ],
         "xaxis": "x6",
         "y": [
          1.5426481802641618,
          1.6444152613650513,
          1.708579034261514,
          1.5258185549992074,
          1.4344895329407834,
          1.528655787859806,
          1.8901696009525688,
          2.746864985262636,
          1.9459762325789847,
          1.7556632976840783
         ],
         "yaxis": "y6"
        }
       ],
       "layout": {
        "template": {
         "data": {
          "bar": [
           {
            "error_x": {
             "color": "#2a3f5f"
            },
            "error_y": {
             "color": "#2a3f5f"
            },
            "marker": {
             "line": {
              "color": "#E5ECF6",
              "width": 0.5
             },
             "pattern": {
              "fillmode": "overlay",
              "size": 10,
              "solidity": 0.2
             }
            },
            "type": "bar"
           }
          ],
          "barpolar": [
           {
            "marker": {
             "line": {
              "color": "#E5ECF6",
              "width": 0.5
             },
             "pattern": {
              "fillmode": "overlay",
              "size": 10,
              "solidity": 0.2
             }
            },
            "type": "barpolar"
           }
          ],
          "carpet": [
           {
            "aaxis": {
             "endlinecolor": "#2a3f5f",
             "gridcolor": "white",
             "linecolor": "white",
             "minorgridcolor": "white",
             "startlinecolor": "#2a3f5f"
            },
            "baxis": {
             "endlinecolor": "#2a3f5f",
             "gridcolor": "white",
             "linecolor": "white",
             "minorgridcolor": "white",
             "startlinecolor": "#2a3f5f"
            },
            "type": "carpet"
           }
          ],
          "choropleth": [
           {
            "colorbar": {
             "outlinewidth": 0,
             "ticks": ""
            },
            "type": "choropleth"
           }
          ],
          "contour": [
           {
            "colorbar": {
             "outlinewidth": 0,
             "ticks": ""
            },
            "colorscale": [
             [
              0,
              "#0d0887"
             ],
             [
              0.1111111111111111,
              "#46039f"
             ],
             [
              0.2222222222222222,
              "#7201a8"
             ],
             [
              0.3333333333333333,
              "#9c179e"
             ],
             [
              0.4444444444444444,
              "#bd3786"
             ],
             [
              0.5555555555555556,
              "#d8576b"
             ],
             [
              0.6666666666666666,
              "#ed7953"
             ],
             [
              0.7777777777777778,
              "#fb9f3a"
             ],
             [
              0.8888888888888888,
              "#fdca26"
             ],
             [
              1,
              "#f0f921"
             ]
            ],
            "type": "contour"
           }
          ],
          "contourcarpet": [
           {
            "colorbar": {
             "outlinewidth": 0,
             "ticks": ""
            },
            "type": "contourcarpet"
           }
          ],
          "heatmap": [
           {
            "colorbar": {
             "outlinewidth": 0,
             "ticks": ""
            },
            "colorscale": [
             [
              0,
              "#0d0887"
             ],
             [
              0.1111111111111111,
              "#46039f"
             ],
             [
              0.2222222222222222,
              "#7201a8"
             ],
             [
              0.3333333333333333,
              "#9c179e"
             ],
             [
              0.4444444444444444,
              "#bd3786"
             ],
             [
              0.5555555555555556,
              "#d8576b"
             ],
             [
              0.6666666666666666,
              "#ed7953"
             ],
             [
              0.7777777777777778,
              "#fb9f3a"
             ],
             [
              0.8888888888888888,
              "#fdca26"
             ],
             [
              1,
              "#f0f921"
             ]
            ],
            "type": "heatmap"
           }
          ],
          "histogram": [
           {
            "marker": {
             "pattern": {
              "fillmode": "overlay",
              "size": 10,
              "solidity": 0.2
             }
            },
            "type": "histogram"
           }
          ],
          "histogram2d": [
           {
            "colorbar": {
             "outlinewidth": 0,
             "ticks": ""
            },
            "colorscale": [
             [
              0,
              "#0d0887"
             ],
             [
              0.1111111111111111,
              "#46039f"
             ],
             [
              0.2222222222222222,
              "#7201a8"
             ],
             [
              0.3333333333333333,
              "#9c179e"
             ],
             [
              0.4444444444444444,
              "#bd3786"
             ],
             [
              0.5555555555555556,
              "#d8576b"
             ],
             [
              0.6666666666666666,
              "#ed7953"
             ],
             [
              0.7777777777777778,
              "#fb9f3a"
             ],
             [
              0.8888888888888888,
              "#fdca26"
             ],
             [
              1,
              "#f0f921"
             ]
            ],
            "type": "histogram2d"
           }
          ],
          "histogram2dcontour": [
           {
            "colorbar": {
             "outlinewidth": 0,
             "ticks": ""
            },
            "colorscale": [
             [
              0,
              "#0d0887"
             ],
             [
              0.1111111111111111,
              "#46039f"
             ],
             [
              0.2222222222222222,
              "#7201a8"
             ],
             [
              0.3333333333333333,
              "#9c179e"
             ],
             [
              0.4444444444444444,
              "#bd3786"
             ],
             [
              0.5555555555555556,
              "#d8576b"
             ],
             [
              0.6666666666666666,
              "#ed7953"
             ],
             [
              0.7777777777777778,
              "#fb9f3a"
             ],
             [
              0.8888888888888888,
              "#fdca26"
             ],
             [
              1,
              "#f0f921"
             ]
            ],
            "type": "histogram2dcontour"
           }
          ],
          "mesh3d": [
           {
            "colorbar": {
             "outlinewidth": 0,
             "ticks": ""
            },
            "type": "mesh3d"
           }
          ],
          "parcoords": [
           {
            "line": {
             "colorbar": {
              "outlinewidth": 0,
              "ticks": ""
             }
            },
            "type": "parcoords"
           }
          ],
          "pie": [
           {
            "automargin": true,
            "type": "pie"
           }
          ],
          "scatter": [
           {
            "fillpattern": {
             "fillmode": "overlay",
             "size": 10,
             "solidity": 0.2
            },
            "type": "scatter"
           }
          ],
          "scatter3d": [
           {
            "line": {
             "colorbar": {
              "outlinewidth": 0,
              "ticks": ""
             }
            },
            "marker": {
             "colorbar": {
              "outlinewidth": 0,
              "ticks": ""
             }
            },
            "type": "scatter3d"
           }
          ],
          "scattercarpet": [
           {
            "marker": {
             "colorbar": {
              "outlinewidth": 0,
              "ticks": ""
             }
            },
            "type": "scattercarpet"
           }
          ],
          "scattergeo": [
           {
            "marker": {
             "colorbar": {
              "outlinewidth": 0,
              "ticks": ""
             }
            },
            "type": "scattergeo"
           }
          ],
          "scattergl": [
           {
            "marker": {
             "colorbar": {
              "outlinewidth": 0,
              "ticks": ""
             }
            },
            "type": "scattergl"
           }
          ],
          "scattermap": [
           {
            "marker": {
             "colorbar": {
              "outlinewidth": 0,
              "ticks": ""
             }
            },
            "type": "scattermap"
           }
          ],
          "scattermapbox": [
           {
            "marker": {
             "colorbar": {
              "outlinewidth": 0,
              "ticks": ""
             }
            },
            "type": "scattermapbox"
           }
          ],
          "scatterpolar": [
           {
            "marker": {
             "colorbar": {
              "outlinewidth": 0,
              "ticks": ""
             }
            },
            "type": "scatterpolar"
           }
          ],
          "scatterpolargl": [
           {
            "marker": {
             "colorbar": {
              "outlinewidth": 0,
              "ticks": ""
             }
            },
            "type": "scatterpolargl"
           }
          ],
          "scatterternary": [
           {
            "marker": {
             "colorbar": {
              "outlinewidth": 0,
              "ticks": ""
             }
            },
            "type": "scatterternary"
           }
          ],
          "surface": [
           {
            "colorbar": {
             "outlinewidth": 0,
             "ticks": ""
            },
            "colorscale": [
             [
              0,
              "#0d0887"
             ],
             [
              0.1111111111111111,
              "#46039f"
             ],
             [
              0.2222222222222222,
              "#7201a8"
             ],
             [
              0.3333333333333333,
              "#9c179e"
             ],
             [
              0.4444444444444444,
              "#bd3786"
             ],
             [
              0.5555555555555556,
              "#d8576b"
             ],
             [
              0.6666666666666666,
              "#ed7953"
             ],
             [
              0.7777777777777778,
              "#fb9f3a"
             ],
             [
              0.8888888888888888,
              "#fdca26"
             ],
             [
              1,
              "#f0f921"
             ]
            ],
            "type": "surface"
           }
          ],
          "table": [
           {
            "cells": {
             "fill": {
              "color": "#EBF0F8"
             },
             "line": {
              "color": "white"
             }
            },
            "header": {
             "fill": {
              "color": "#C8D4E3"
             },
             "line": {
              "color": "white"
             }
            },
            "type": "table"
           }
          ]
         },
         "layout": {
          "annotationdefaults": {
           "arrowcolor": "#2a3f5f",
           "arrowhead": 0,
           "arrowwidth": 1
          },
          "autotypenumbers": "strict",
          "coloraxis": {
           "colorbar": {
            "outlinewidth": 0,
            "ticks": ""
           }
          },
          "colorscale": {
           "diverging": [
            [
             0,
             "#8e0152"
            ],
            [
             0.1,
             "#c51b7d"
            ],
            [
             0.2,
             "#de77ae"
            ],
            [
             0.3,
             "#f1b6da"
            ],
            [
             0.4,
             "#fde0ef"
            ],
            [
             0.5,
             "#f7f7f7"
            ],
            [
             0.6,
             "#e6f5d0"
            ],
            [
             0.7,
             "#b8e186"
            ],
            [
             0.8,
             "#7fbc41"
            ],
            [
             0.9,
             "#4d9221"
            ],
            [
             1,
             "#276419"
            ]
           ],
           "sequential": [
            [
             0,
             "#0d0887"
            ],
            [
             0.1111111111111111,
             "#46039f"
            ],
            [
             0.2222222222222222,
             "#7201a8"
            ],
            [
             0.3333333333333333,
             "#9c179e"
            ],
            [
             0.4444444444444444,
             "#bd3786"
            ],
            [
             0.5555555555555556,
             "#d8576b"
            ],
            [
             0.6666666666666666,
             "#ed7953"
            ],
            [
             0.7777777777777778,
             "#fb9f3a"
            ],
            [
             0.8888888888888888,
             "#fdca26"
            ],
            [
             1,
             "#f0f921"
            ]
           ],
           "sequentialminus": [
            [
             0,
             "#0d0887"
            ],
            [
             0.1111111111111111,
             "#46039f"
            ],
            [
             0.2222222222222222,
             "#7201a8"
            ],
            [
             0.3333333333333333,
             "#9c179e"
            ],
            [
             0.4444444444444444,
             "#bd3786"
            ],
            [
             0.5555555555555556,
             "#d8576b"
            ],
            [
             0.6666666666666666,
             "#ed7953"
            ],
            [
             0.7777777777777778,
             "#fb9f3a"
            ],
            [
             0.8888888888888888,
             "#fdca26"
            ],
            [
             1,
             "#f0f921"
            ]
           ]
          },
          "colorway": [
           "#636efa",
           "#EF553B",
           "#00cc96",
           "#ab63fa",
           "#FFA15A",
           "#19d3f3",
           "#FF6692",
           "#B6E880",
           "#FF97FF",
           "#FECB52"
          ],
          "font": {
           "color": "#2a3f5f"
          },
          "geo": {
           "bgcolor": "white",
           "lakecolor": "white",
           "landcolor": "#E5ECF6",
           "showlakes": true,
           "showland": true,
           "subunitcolor": "white"
          },
          "hoverlabel": {
           "align": "left"
          },
          "hovermode": "closest",
          "mapbox": {
           "style": "light"
          },
          "paper_bgcolor": "white",
          "plot_bgcolor": "#E5ECF6",
          "polar": {
           "angularaxis": {
            "gridcolor": "white",
            "linecolor": "white",
            "ticks": ""
           },
           "bgcolor": "#E5ECF6",
           "radialaxis": {
            "gridcolor": "white",
            "linecolor": "white",
            "ticks": ""
           }
          },
          "scene": {
           "xaxis": {
            "backgroundcolor": "#E5ECF6",
            "gridcolor": "white",
            "gridwidth": 2,
            "linecolor": "white",
            "showbackground": true,
            "ticks": "",
            "zerolinecolor": "white"
           },
           "yaxis": {
            "backgroundcolor": "#E5ECF6",
            "gridcolor": "white",
            "gridwidth": 2,
            "linecolor": "white",
            "showbackground": true,
            "ticks": "",
            "zerolinecolor": "white"
           },
           "zaxis": {
            "backgroundcolor": "#E5ECF6",
            "gridcolor": "white",
            "gridwidth": 2,
            "linecolor": "white",
            "showbackground": true,
            "ticks": "",
            "zerolinecolor": "white"
           }
          },
          "shapedefaults": {
           "line": {
            "color": "#2a3f5f"
           }
          },
          "ternary": {
           "aaxis": {
            "gridcolor": "white",
            "linecolor": "white",
            "ticks": ""
           },
           "baxis": {
            "gridcolor": "white",
            "linecolor": "white",
            "ticks": ""
           },
           "bgcolor": "#E5ECF6",
           "caxis": {
            "gridcolor": "white",
            "linecolor": "white",
            "ticks": ""
           }
          },
          "title": {
           "x": 0.05
          },
          "xaxis": {
           "automargin": true,
           "gridcolor": "white",
           "linecolor": "white",
           "ticks": "",
           "title": {
            "standoff": 15
           },
           "zerolinecolor": "white",
           "zerolinewidth": 2
          },
          "yaxis": {
           "automargin": true,
           "gridcolor": "white",
           "linecolor": "white",
           "ticks": "",
           "title": {
            "standoff": 15
           },
           "zerolinecolor": "white",
           "zerolinewidth": 2
          }
         }
        },
        "title": {
         "text": "Slice Plot"
        },
        "width": 1800,
        "xaxis": {
         "anchor": "y",
         "categoryarray": [
          16,
          32,
          64,
          128
         ],
         "categoryorder": "array",
         "domain": [
          0,
          0.1388888888888889
         ],
         "title": {
          "text": "batch_size"
         },
         "type": "category"
        },
        "xaxis2": {
         "anchor": "y2",
         "domain": [
          0.17222222222222222,
          0.3111111111111111
         ],
         "title": {
          "text": "dropout"
         }
        },
        "xaxis3": {
         "anchor": "y3",
         "categoryarray": [
          64,
          128
         ],
         "categoryorder": "array",
         "domain": [
          0.34444444444444444,
          0.48333333333333334
         ],
         "title": {
          "text": "embed_dim"
         },
         "type": "category"
        },
        "xaxis4": {
         "anchor": "y4",
         "domain": [
          0.5166666666666667,
          0.6555555555555557
         ],
         "title": {
          "text": "lr"
         }
        },
        "xaxis5": {
         "anchor": "y5",
         "domain": [
          0.6888888888888889,
          0.8277777777777777
         ],
         "title": {
          "text": "num_seeds"
         }
        },
        "xaxis6": {
         "anchor": "y6",
         "domain": [
          0.861111111111111,
          1
         ],
         "title": {
          "text": "summary_dim"
         }
        },
        "yaxis": {
         "anchor": "x",
         "domain": [
          0,
          1
         ],
         "title": {
          "text": "Objective Value"
         }
        },
        "yaxis2": {
         "anchor": "x2",
         "domain": [
          0,
          1
         ],
         "matches": "y",
         "showticklabels": false
        },
        "yaxis3": {
         "anchor": "x3",
         "domain": [
          0,
          1
         ],
         "matches": "y",
         "showticklabels": false
        },
        "yaxis4": {
         "anchor": "x4",
         "domain": [
          0,
          1
         ],
         "matches": "y",
         "showticklabels": false
        },
        "yaxis5": {
         "anchor": "x5",
         "domain": [
          0,
          1
         ],
         "matches": "y",
         "showticklabels": false
        },
        "yaxis6": {
         "anchor": "x6",
         "domain": [
          0,
          1
         ],
         "matches": "y",
         "showticklabels": false
        }
       }
      }
     },
     "metadata": {},
     "output_type": "display_data"
    }
   ],
   "source": [
    "from plotly.io import show\n",
    "\n",
    "fig = optuna.visualization.plot_slice(study, params=[\"dropout\", \"lr\", 'num_seeds', 'batch_size', 'embed_dim', 'summary_dim'])\n",
    "show(fig)"
   ]
  },
  {
   "cell_type": "code",
   "execution_count": null,
   "id": "1f17b205",
   "metadata": {},
   "outputs": [],
   "source": []
  }
 ],
 "metadata": {
  "kernelspec": {
   "display_name": "bf_new",
   "language": "python",
   "name": "python3"
  },
  "language_info": {
   "codemirror_mode": {
    "name": "ipython",
    "version": 3
   },
   "file_extension": ".py",
   "mimetype": "text/x-python",
   "name": "python",
   "nbconvert_exporter": "python",
   "pygments_lexer": "ipython3",
   "version": "3.11.11"
  }
 },
 "nbformat": 4,
 "nbformat_minor": 5
}
