{
 "cells": [
  {
   "cell_type": "code",
   "execution_count": 9,
   "metadata": {},
   "outputs": [],
   "source": [
    "\n",
    "# Import Libraries\n",
    "import os\n",
    "import bayesflow as bf\n",
    "import numpy as np\n",
    "import math\n",
    "import os\n",
    "import pickle\n",
    "import sys\n",
    "import pandas as pd\n",
    "import seaborn as sns\n",
    "import time\n",
    "import tensorflow as tf\n",
    "from bayesflow import computational_utilities as utils\n",
    "from numba import njit\n",
    "import re\n",
    "import matplotlib.pyplot as plt\n",
    "from datetime import datetime\n",
    "from functools import partial\n",
    "from bayesflow.computational_utilities import maximum_mean_discrepancy\n",
    "from keras.utils import to_categorical\n"
   ]
  },
  {
   "cell_type": "code",
   "execution_count": 11,
   "metadata": {},
   "outputs": [
    {
     "data": {
      "text/plain": [
       "'x-ray-199.dynamic2.rpi.edu'"
      ]
     },
     "execution_count": 11,
     "metadata": {},
     "output_type": "execute_result"
    }
   ],
   "source": [
    "myhost"
   ]
  },
  {
   "cell_type": "code",
   "execution_count": 12,
   "metadata": {},
   "outputs": [],
   "source": [
    "myhost = os.uname()[1]\n",
    "\n",
    "RNG = np.random.default_rng(2023)\n",
    "model_start = datetime.now()\n",
    "#%%\n",
    "\n",
    "\n",
    "if myhost == 'psyml201' or myhost == 'nagini-59.dynamic.rpi.edu' or myhost == 'x-ray-199.dynamic2.rpi.edu':\n",
    "    index = 496\n",
    "    design_grid_num = 6\n",
    "    slurm_id = 'PC'\n",
    "    model_title =  None\n",
    "    design_grid_num = 6\n",
    "    # model_title = 'dmc_418664design_grid6_condition54'\n",
    "    design_grid_dir = '/data/design_grid' + str(design_grid_num) + '.csv'\n",
    "else:\n",
    "    arguments = sys.argv[1:]\n",
    "    print(f\"passed argument: {arguments}\")\n",
    "    index = int(arguments[1])\n",
    "    design_grid_num = int(arguments[2])\n",
    "    slurm_id = str(arguments[0])\n",
    "    model_title = \"dmc_\"+ str(arguments[0]) + 'design_grid' + str(design_grid_num)+ '_condition' + str(index)\n",
    "    design_grid_dir = '/data/design_grid' + str(design_grid_num) + '.csv'\n",
    "\n"
   ]
  },
  {
   "cell_type": "code",
   "execution_count": 13,
   "metadata": {},
   "outputs": [
    {
     "name": "stdout",
     "output_type": "stream",
     "text": [
      "script_dir = /Users/simonschaefer/Documents/BF-LIGHT/models\n",
      "parent_dir = /Users/simonschaefer/Documents/BF-LIGHT\n",
      "functions_dir = /Users/simonschaefer/Documents/BF-LIGHT/functions\n",
      "model_data_dir = /Users/simonschaefer/Documents/BF-LIGHT/model_data\n",
      "model_dir = /Users/simonschaefer/Documents/BF-LIGHT/models\n",
      "design_grid_dir = /data/design_grid6.csv\n"
     ]
    }
   ],
   "source": [
    "\n",
    "\n",
    "model_info = {\n",
    "    'model_title': model_title,\n",
    "    'link_function': None, # choose 'normal cdf' to transform normals to uniform priors\n",
    "    'normal_restriction': 'positive only',\n",
    "    'model': 'dmc',\n",
    "    'log_file': 'dmc_log_file.csv',\n",
    "    'slurm_id': slurm_id,\n",
    "    'write_log': True,\n",
    "    'load_pretrained': True,\n",
    "    'save_plots': True,\n",
    "    'compute_mmd': True,\n",
    "    'plot_mms': False,\n",
    "    'plot_dataspace': True,\n",
    "    'save_rt_data': False,\n",
    "    'x0_var': 'trial', # or 'fixed' -> specify X0_beta_shape\n",
    "    'a_var': 'estimated', # or 'fixed'\n",
    "    'a_value': None,\n",
    "    'n_epochs': 100,\n",
    "    'n_iterations': 1000,\n",
    "    'min_obs': 50,\n",
    "    'max_obs': 2000,\n",
    "    'n_conditions': 2,\n",
    "    'batch_size': 32,\n",
    "    'save_posterior_data': True,\n",
    "    'n_summary_dims': 32,\n",
    "    'coupling_design': \"spline\", # oder spline\n",
    "    'n_coupling_layers': 12,\n",
    "    'n_validation_sims': 200,\n",
    "    'early_stopping': False,\n",
    "    ## Priors ##\n",
    "    'X0_beta_shape_fixed': 3,\n",
    "    'X0_value': 0,\n",
    "    'tmax': 1200,\n",
    "    'sigma': 4,\n",
    "    'dt': 1,\n",
    "    'n_recovery_simulations': 1000,\n",
    "    'n_posterior_samples': 10000,\n",
    "    'simulation_function': 'vectorized',\n",
    "    'nonconvergents': 'resampled',\n",
    "    'dir_design_grid': design_grid_dir,\n",
    "    'start_time': model_start,\n",
    "    'comment': 'extended x_shape range (Luo & proctor, 2022), a fixed',\n",
    "    'attention_setting_key_dim': 128,\n",
    "    'num_heads': 8,\n",
    "    'num_inducing_points': 32,\n",
    "    'num_seeds': 4,\n",
    "    'num_dense_fc': 2,\n",
    "    'dense_setting_units': 256,\n",
    "    'dense_setting_activation': 'relu',\n",
    "    'min_scale_alpha': 1,\n",
    "    'max_scale_alpha': 1,\n",
    "    'learning_rate': 5e-4}\n",
    "\n",
    "\n",
    "if myhost == 'psyml201' or myhost == 'nagini-59.dynamic.rpi.edu':\n",
    "    # model_info['save_plots'] = False\n",
    "    model_info['plot_mms'] = False\n",
    "    model_info['compute_mmd'] = False\n",
    "    model_info['plot_dataspace'] = False\n",
    "\n",
    "\n",
    "parent_dir = '/Users/simonschaefer/Documents/BF-LIGHT'\n",
    "\n",
    "if model_info['load_pretrained']:\n",
    "    # model titles\n",
    "    list_files = os.listdir(parent_dir + '/networks')\n",
    "    list_files =  [path for path in list_files if 'design_grid6' in path]\n",
    "    model_title = [path for path in list_files if 'condition'+ str(index) in path]\n",
    "    model_title.sort()\n",
    "    model_title = model_title[0]\n",
    "    model_info['model_title'] = model_title\n",
    "\n",
    "\n",
    "script_dir = str(parent_dir) + '/models'\n",
    "\n",
    "functions_dir = parent_dir + '/functions'\n",
    "\n",
    "model_data_dir = parent_dir + '/model_data'\n",
    "\n",
    "model_dir = parent_dir + '/models'\n",
    "\n",
    "figure_path = parent_dir + '/plots/' + model_title + '/' + model_title\n",
    "\n",
    "print('script_dir = '+script_dir)\n",
    "print('parent_dir = '+parent_dir)\n",
    "print('functions_dir = '+functions_dir)\n",
    "print('model_data_dir = '+model_data_dir)\n",
    "print('model_dir = '+model_dir)\n",
    "print('design_grid_dir = '+design_grid_dir)\n",
    "\n",
    "sys.path.append(functions_dir)\n",
    "\n",
    "\n",
    "\n",
    "import dmc_functions as dmc\n",
    "\n"
   ]
  },
  {
   "cell_type": "code",
   "execution_count": 14,
   "metadata": {},
   "outputs": [
    {
     "data": {
      "text/plain": [
       "'dmc_602907design_grid6_condition496'"
      ]
     },
     "execution_count": 14,
     "metadata": {},
     "output_type": "execute_result"
    }
   ],
   "source": [
    "model_title\n"
   ]
  },
  {
   "cell_type": "code",
   "execution_count": 15,
   "metadata": {},
   "outputs": [],
   "source": [
    "## read design grid\n",
    "\n",
    "design_grid = pd.read_csv(parent_dir+model_info['dir_design_grid'], index_col=0)\n",
    "\n",
    "\n",
    "# if myhost != 'psyml201':\n",
    "#     # write slurm id into design grid\n",
    "#     design_grid['slurm_id'][index] = slurm_id\n",
    "#     design_grid.to_csv(parent_dir+model_info['dir_design_grid'])\n",
    "\n",
    "# replace NaN with None\n",
    "design_grid.replace({np.nan: None})\n",
    "\n",
    "condition = design_grid.iloc[index]\n",
    "\n",
    "condition.to_dict()\n",
    "\n",
    "model_info.update(condition)\n",
    "\n",
    "sys.path.append(parent_dir)\n",
    "\n",
    "# parameters estimated\n",
    "param_names = ['A', 'tau', 'mu_c', 'mu_r', 'b']\n",
    "PARAM_NAMES = [r'$A$', r'$\\tau$', r'$\\mu_c$',r'$\\mu_r$', r'$b$']\n",
    "\n",
    "# append parameter names if needed\n",
    "if model_info['sd_r_var'] == 'estimated':\n",
    "    param_names.append('sd_r')\n",
    "    PARAM_NAMES.append(r'$sd_r$')\n",
    "\n",
    "if model_info['a_var'] == 'estimated':\n",
    "    param_names.extend('a')\n",
    "    PARAM_NAMES.append(r'$a$')\n",
    "\n",
    "n_pars = len(param_names)\n",
    "\n",
    "families_list = [name + '_prior' for name in param_names]\n",
    "\n",
    "prior_families = [model_info[key] for key in families_list if key in model_info]\n",
    "\n",
    "restriction = model_info['normal_restriction']\n",
    "link_fun = model_info['link_function']\n",
    "\n",
    "## extract prior parameters from model_info\n",
    "\n",
    "prior_par_names = []\n",
    "prior_pars_arr = np.zeros((n_pars, 2))\n",
    "# prior_pars_arr = np.concatenate((prior_pars_arr, np.array(param_names).reshape(n_pars,1)), axis = 1)\n",
    "\n",
    "for i in range(n_pars):\n",
    "    if prior_families[i] == 'gamma':\n",
    "        suffix = ['shape', 'rate']\n",
    "    elif prior_families[i] == 'normal':\n",
    "        suffix = ['mean', 'sd']\n",
    "\n",
    "    for j in range(len(suffix)):\n",
    "        par_name = param_names[i] + '_prior_' + suffix[j]\n",
    "        prior_par_names.append(par_name)\n",
    "        prior_pars_arr[i, j] = model_info[par_name]\n",
    "\n",
    "\n",
    "\n",
    "# model_info['tmax'] = 5000\n",
    "# prior_batchable_fun = partial(dmc.alpha_gen,\n",
    "#                         min = model_info['min_scale_alpha'],\n",
    "#                         max = model_info['max_scale_alpha'],\n",
    "#                         size = n_pars)\n",
    "\n",
    "# prior_fun(prior_batchable_fun())\n",
    "# context_alpha = partial(dmc.alpha_gen,\n",
    "#                         min = 1,\n",
    "#                         max = 1,\n",
    "#                         size = n_pars)\n",
    "# single test prior function\n",
    "\n",
    "# prior_context = bf.simulation.ContextGenerator(batchable_context_fun=prior_batchable_fun)\n",
    "\n",
    "\n"
   ]
  },
  {
   "cell_type": "code",
   "execution_count": 16,
   "metadata": {},
   "outputs": [
    {
     "data": {
      "text/plain": [
       "['A', 'tau', 'mu_c', 'mu_r', 'b']"
      ]
     },
     "execution_count": 16,
     "metadata": {},
     "output_type": "execute_result"
    }
   ],
   "source": [
    "param_names"
   ]
  },
  {
   "cell_type": "code",
   "execution_count": 17,
   "metadata": {},
   "outputs": [],
   "source": [
    "prior_fun_win_sim = partial(dmc.prior_nps,\n",
    "                    families = np.array(prior_families),\n",
    "                    pars1 = prior_pars_arr[:,0],\n",
    "                    pars2 = prior_pars_arr[:,1],\n",
    "                    param_names = np.array(param_names),\n",
    "                    restriction = restriction)\n",
    "\n",
    "prior_fun_oof = partial(dmc.prior_nps,\n",
    "                    families = np.array(prior_families),\n",
    "                    pars1 = np.array([16.37, 111.28, 0.53, 322.82, 74.96]),\n",
    "                    pars2 = np.array([10.42, 47.41, 0.13,39.86, 22.64]),\n",
    "                    param_names = np.array(param_names),\n",
    "                    restriction = restriction)\n",
    "\n",
    "prior_fun_acdc = partial(dmc.prior_nps,\n",
    "                    families = np.array(prior_families),\n",
    "                    pars1 = np.array([20.61, 112.93, 0.42, 362.36, 102.08 ]),\n",
    "                    pars2 = np.array([10.77, 34.97, 0.14, 60.77, 33.11]),\n",
    "                    param_names = np.array(param_names),\n",
    "                    restriction = restriction)"
   ]
  },
  {
   "cell_type": "code",
   "execution_count": 18,
   "metadata": {},
   "outputs": [],
   "source": [
    "prior_winsim = bf.simulation.Prior(prior_fun = prior_fun_win_sim,\n",
    "                            #context_generator = prior_context,\n",
    "                            param_names = PARAM_NAMES)\n",
    "\n",
    "prior_oof = bf.simulation.Prior(prior_fun = prior_fun_oof,\n",
    "                            #context_generator = prior_context,\n",
    "                            param_names = PARAM_NAMES)\n",
    "\n",
    "prior_acdc = bf.simulation.Prior(prior_fun = prior_fun_acdc,\n",
    "                            #context_generator = prior_context,\n",
    "                            param_names = PARAM_NAMES)\n"
   ]
  },
  {
   "cell_type": "code",
   "execution_count": 19,
   "metadata": {},
   "outputs": [
    {
     "data": {
      "text/plain": [
       "'dmc_602907design_grid6_condition496'"
      ]
     },
     "execution_count": 19,
     "metadata": {},
     "output_type": "execute_result"
    }
   ],
   "source": [
    "model_title"
   ]
  },
  {
   "cell_type": "code",
   "execution_count": 20,
   "metadata": {},
   "outputs": [],
   "source": [
    "def plot_acc(sim_out):\n",
    "\n",
    "    # Plot Response Frequencies\n",
    "    batch_size = sim_out['sim_data'].shape[0]\n",
    "    n_trials = sim_out['sim_data'].shape[1]\n",
    "    # Count the occurrences of each value\n",
    "    data = sim_out['sim_data'][:,:, 1].flatten()\n",
    "    # Convert the data to integers\n",
    "    data = data.astype(int)\n",
    "    counts = np.bincount(data)\n",
    "    # Calculate the percentage of each count\n",
    "    total_counts = np.sum(counts)\n",
    "    percentage = counts / total_counts * 100\n",
    "\n",
    "    # Plot the bar chart\n",
    "    fig, ax = plt.subplots()\n",
    "    bar_plot = ax.bar([0, 1], counts[:2], color='steelblue', alpha=0.9)  # Use only the first two counts for binary data\n",
    "\n",
    "    # Set the axis labels and title\n",
    "    ax.set_xticks([0, 1])\n",
    "    ax.set_xticklabels(['0', '1'])\n",
    "    ax.set_xlabel('Response')\n",
    "    ax.set_ylabel('Frequency')\n",
    "    ax.set_title('Response Frequencies')\n",
    "\n",
    "    # Add percentage labels on top of each bar\n",
    "    for bar, perc in zip(bar_plot, percentage[:2]):\n",
    "        height = bar.get_height()\n",
    "        ax.text(bar.get_x() + bar.get_width() / 2, height, f'{perc:.1f}%', ha='center', va='bottom')\n",
    "\n",
    "    # Display the plot\n",
    "    plt.title(f'{batch_size} simulations a {n_trials} observations')\n",
    "    plt.show()\n",
    "\n",
    "    return fig"
   ]
  },
  {
   "cell_type": "code",
   "execution_count": 21,
   "metadata": {},
   "outputs": [],
   "source": [
    "sim_batchable_fun = partial(dmc.condition_matrix, n_conditions = model_info['n_conditions'])\n",
    "\n",
    "sim_non_batchable_fun = partial(dmc.random_n_obs, min_obs = model_info['min_obs'], max_obs = model_info['max_obs'])\n",
    "\n",
    "# test function:\n",
    "# dmc.experiment(theta,\n",
    "#                sim_batchable_fun(1000),\n",
    "#                sim_non_batchable_fun(),\n",
    "#                    tmax = model_info['tmax'],\n",
    "#                    sigma = model_info['sigma'],\n",
    "#                    dt = model_info['dt'],\n",
    "#                    sd_r_var = model_info['sd_r_var'],\n",
    "#                    a_var = model_info['a_var'],\n",
    "#                    x0_var = model_info['x0_var'],\n",
    "#                    a_value = model_info['a_value'],\n",
    "#                    X0_value = model_info['X0_value'],\n",
    "#                    X0_beta_shape_fixed = model_info['X0_beta_shape_fixed'])\n",
    "\n",
    "experiment_fun = partial(dmc.experiment,\n",
    "                         tmax = model_info['tmax'],\n",
    "                         sigma = model_info['sigma'],\n",
    "                         dt = model_info['dt'],\n",
    "                         sd_r_var = model_info['sd_r_var'],\n",
    "                         a_var = model_info['a_var'],\n",
    "                         x0_var = model_info['x0_var'],\n",
    "                         a_value = model_info['a_value'],\n",
    "                         X0_value = model_info['X0_value'],\n",
    "                         X0_beta_shape_fixed = model_info['X0_beta_shape_fixed'])\n",
    "\n",
    "sim_context = bf.simulation.ContextGenerator(\n",
    "    non_batchable_context_fun=sim_non_batchable_fun,\n",
    "    batchable_context_fun=sim_batchable_fun,\n",
    "    use_non_batchable_for_batchable=True)\n",
    "\n",
    "simulator = bf.simulation.Simulator(\n",
    "    simulator_fun=experiment_fun,\n",
    "    context_generator=sim_context)\n",
    "\n",
    "\n"
   ]
  },
  {
   "cell_type": "code",
   "execution_count": 23,
   "metadata": {},
   "outputs": [
    {
     "name": "stderr",
     "output_type": "stream",
     "text": [
      "INFO:root:Performing 2 pilot runs with the DMC_winsim model...\n",
      "INFO:root:Shape of parameter batch after 2 pilot simulations: (batch_size = 2, 5)\n",
      "INFO:root:Shape of simulation batch after 2 pilot simulations: (batch_size = 2, 944, 2)\n",
      "INFO:root:No optional prior non-batchable context provided.\n",
      "INFO:root:No optional prior batchable context provided.\n",
      "INFO:root:Could not determine shape of simulation non-batchable context. Type appears to be non-array: <class 'int'>,                                    so make sure your input configurator takes cares of that!\n",
      "INFO:root:Could not determine shape of simulation batchable context. Type appears to be non-array: <class 'list'>,                                    so make sure your input configurator takes cares of that!\n",
      "INFO:root:Performing 2 pilot runs with the DMC_oof model...\n",
      "INFO:root:Shape of parameter batch after 2 pilot simulations: (batch_size = 2, 5)\n",
      "INFO:root:Shape of simulation batch after 2 pilot simulations: (batch_size = 2, 666, 2)\n",
      "INFO:root:No optional prior non-batchable context provided.\n",
      "INFO:root:No optional prior batchable context provided.\n",
      "INFO:root:Could not determine shape of simulation non-batchable context. Type appears to be non-array: <class 'int'>,                                    so make sure your input configurator takes cares of that!\n",
      "INFO:root:Could not determine shape of simulation batchable context. Type appears to be non-array: <class 'list'>,                                    so make sure your input configurator takes cares of that!\n",
      "INFO:root:Performing 2 pilot runs with the DMC_acdc model...\n",
      "INFO:root:Shape of parameter batch after 2 pilot simulations: (batch_size = 2, 5)\n",
      "INFO:root:Shape of simulation batch after 2 pilot simulations: (batch_size = 2, 282, 2)\n",
      "INFO:root:No optional prior non-batchable context provided.\n",
      "INFO:root:No optional prior batchable context provided.\n",
      "INFO:root:Could not determine shape of simulation non-batchable context. Type appears to be non-array: <class 'int'>,                                    so make sure your input configurator takes cares of that!\n",
      "INFO:root:Could not determine shape of simulation batchable context. Type appears to be non-array: <class 'list'>,                                    so make sure your input configurator takes cares of that!\n"
     ]
    }
   ],
   "source": [
    "model_winsim = bf.simulation.GenerativeModel(\n",
    "    prior=prior_winsim,\n",
    "    simulator=simulator,\n",
    "    name='DMC_winsim')\n",
    "\n",
    "model_oof = bf.simulation.GenerativeModel(\n",
    "    prior=prior_oof,\n",
    "    simulator=simulator,\n",
    "    name='DMC_oof')\n",
    "\n",
    "model_acdc = bf.simulation.GenerativeModel(\n",
    "    prior=prior_acdc,\n",
    "    simulator=simulator,\n",
    "    name='DMC_acdc')"
   ]
  },
  {
   "cell_type": "code",
   "execution_count": 24,
   "metadata": {},
   "outputs": [],
   "source": [
    "def plot_acc(sim_out):\n",
    "\n",
    "    # Plot Response Frequencies\n",
    "    batch_size = sim_out['sim_data'].shape[0]\n",
    "    n_trials = sim_out['sim_data'].shape[1]\n",
    "    # Count the occurrences of each value\n",
    "    data = sim_out['sim_data'][:,:, 1].flatten()\n",
    "    # Convert the data to integers\n",
    "    data = data.astype(int)\n",
    "    counts = np.bincount(data)\n",
    "    # Calculate the percentage of each count\n",
    "    total_counts = np.sum(counts)\n",
    "    percentage = counts / total_counts * 100\n",
    "\n",
    "    # Plot the bar chart\n",
    "    fig, ax = plt.subplots()\n",
    "    bar_plot = ax.bar([0, 1], counts[:2], color='steelblue', alpha=0.9)  # Use only the first two counts for binary data\n",
    "\n",
    "    # Set the axis labels and title\n",
    "    ax.set_xticks([0, 1])\n",
    "    ax.set_xticklabels(['0', '1'])\n",
    "    ax.set_xlabel('Response')\n",
    "    ax.set_ylabel('Frequency')\n",
    "    ax.set_title('Response Frequencies')\n",
    "\n",
    "    # Add percentage labels on top of each bar\n",
    "    for bar, perc in zip(bar_plot, percentage[:2]):\n",
    "        height = bar.get_height()\n",
    "        ax.text(bar.get_x() + bar.get_width() / 2, height, f'{perc:.1f}%', ha='center', va='bottom')\n",
    "\n",
    "    # Display the plot\n",
    "    plt.title(f'{batch_size} simulations a {n_trials} observations')\n",
    "    plt.show()\n",
    "\n",
    "    return fig"
   ]
  },
  {
   "cell_type": "code",
   "execution_count": 25,
   "metadata": {},
   "outputs": [],
   "source": [
    "narrow_data = pd.read_csv(parent_dir + '/data/model_data/experiment_data_narrow.csv')\n",
    "wide_data = pd.read_csv(parent_dir + '/data/model_data/experiment_data_wide.csv')\n",
    "\n",
    "empirical_data = pd.concat([narrow_data, wide_data])\n",
    "\n",
    "empirical_accuracies = empirical_data.groupby('participant').mean('accuracy')\n",
    "\n"
   ]
  },
  {
   "cell_type": "code",
   "execution_count": 26,
   "metadata": {},
   "outputs": [
    {
     "data": {
      "text/html": [
       "<div>\n",
       "<style scoped>\n",
       "    .dataframe tbody tr th:only-of-type {\n",
       "        vertical-align: middle;\n",
       "    }\n",
       "\n",
       "    .dataframe tbody tr th {\n",
       "        vertical-align: top;\n",
       "    }\n",
       "\n",
       "    .dataframe thead th {\n",
       "        text-align: right;\n",
       "    }\n",
       "</style>\n",
       "<table border=\"1\" class=\"dataframe\">\n",
       "  <thead>\n",
       "    <tr style=\"text-align: right;\">\n",
       "      <th></th>\n",
       "      <th>participant</th>\n",
       "      <th>rt</th>\n",
       "      <th>accuracy</th>\n",
       "      <th>congruency_num</th>\n",
       "      <th>spacing_num</th>\n",
       "    </tr>\n",
       "  </thead>\n",
       "  <tbody>\n",
       "    <tr>\n",
       "      <th>0</th>\n",
       "      <td>275</td>\n",
       "      <td>0.453</td>\n",
       "      <td>1</td>\n",
       "      <td>0</td>\n",
       "      <td>1</td>\n",
       "    </tr>\n",
       "    <tr>\n",
       "      <th>1</th>\n",
       "      <td>275</td>\n",
       "      <td>0.444</td>\n",
       "      <td>1</td>\n",
       "      <td>0</td>\n",
       "      <td>1</td>\n",
       "    </tr>\n",
       "    <tr>\n",
       "      <th>2</th>\n",
       "      <td>275</td>\n",
       "      <td>0.380</td>\n",
       "      <td>1</td>\n",
       "      <td>0</td>\n",
       "      <td>1</td>\n",
       "    </tr>\n",
       "    <tr>\n",
       "      <th>3</th>\n",
       "      <td>275</td>\n",
       "      <td>0.384</td>\n",
       "      <td>1</td>\n",
       "      <td>1</td>\n",
       "      <td>1</td>\n",
       "    </tr>\n",
       "    <tr>\n",
       "      <th>4</th>\n",
       "      <td>275</td>\n",
       "      <td>0.494</td>\n",
       "      <td>1</td>\n",
       "      <td>0</td>\n",
       "      <td>1</td>\n",
       "    </tr>\n",
       "    <tr>\n",
       "      <th>...</th>\n",
       "      <td>...</td>\n",
       "      <td>...</td>\n",
       "      <td>...</td>\n",
       "      <td>...</td>\n",
       "      <td>...</td>\n",
       "    </tr>\n",
       "    <tr>\n",
       "      <th>25290</th>\n",
       "      <td>985</td>\n",
       "      <td>0.344</td>\n",
       "      <td>1</td>\n",
       "      <td>0</td>\n",
       "      <td>0</td>\n",
       "    </tr>\n",
       "    <tr>\n",
       "      <th>25291</th>\n",
       "      <td>985</td>\n",
       "      <td>0.496</td>\n",
       "      <td>0</td>\n",
       "      <td>1</td>\n",
       "      <td>0</td>\n",
       "    </tr>\n",
       "    <tr>\n",
       "      <th>25292</th>\n",
       "      <td>985</td>\n",
       "      <td>0.483</td>\n",
       "      <td>1</td>\n",
       "      <td>0</td>\n",
       "      <td>0</td>\n",
       "    </tr>\n",
       "    <tr>\n",
       "      <th>25293</th>\n",
       "      <td>985</td>\n",
       "      <td>0.541</td>\n",
       "      <td>1</td>\n",
       "      <td>1</td>\n",
       "      <td>0</td>\n",
       "    </tr>\n",
       "    <tr>\n",
       "      <th>25294</th>\n",
       "      <td>985</td>\n",
       "      <td>0.492</td>\n",
       "      <td>1</td>\n",
       "      <td>0</td>\n",
       "      <td>0</td>\n",
       "    </tr>\n",
       "  </tbody>\n",
       "</table>\n",
       "<p>50651 rows × 5 columns</p>\n",
       "</div>"
      ],
      "text/plain": [
       "       participant     rt  accuracy  congruency_num  spacing_num\n",
       "0              275  0.453         1               0            1\n",
       "1              275  0.444         1               0            1\n",
       "2              275  0.380         1               0            1\n",
       "3              275  0.384         1               1            1\n",
       "4              275  0.494         1               0            1\n",
       "...            ...    ...       ...             ...          ...\n",
       "25290          985  0.344         1               0            0\n",
       "25291          985  0.496         0               1            0\n",
       "25292          985  0.483         1               0            0\n",
       "25293          985  0.541         1               1            0\n",
       "25294          985  0.492         1               0            0\n",
       "\n",
       "[50651 rows x 5 columns]"
      ]
     },
     "execution_count": 26,
     "metadata": {},
     "output_type": "execute_result"
    }
   ],
   "source": [
    "empirical_data"
   ]
  },
  {
   "cell_type": "code",
   "execution_count": 27,
   "metadata": {},
   "outputs": [],
   "source": [
    "   \n",
    "sim_out_oof = model_oof(100)\n",
    "sim_out_acdc = model_acdc(100)\n",
    "sim_out_winsim = model_winsim(100)\n",
    "\n",
    "def extract_acc(sim_out):\n",
    "\n",
    "    accuracies = np.mean(sim_out['sim_data'][:,1], axis = 1)\n",
    "\n",
    "    return accuracies\n"
   ]
  },
  {
   "cell_type": "code",
   "execution_count": 28,
   "metadata": {},
   "outputs": [
    {
     "data": {
      "text/plain": [
       "(array([ 6.,  3.,  0.,  0.,  0., 23., 53., 14.,  0.,  1.]),\n",
       " array([0.12103556, 0.21531293, 0.3095903 , 0.40386767, 0.49814504,\n",
       "        0.59242241, 0.68669978, 0.78097715, 0.87525452, 0.96953188,\n",
       "        1.06380925]),\n",
       " <BarContainer object of 10 artists>)"
      ]
     },
     "execution_count": 28,
     "metadata": {},
     "output_type": "execute_result"
    },
    {
     "data": {
      "image/png": "[encoded data removed]",
      "text/plain": [
       "<Figure size 640x480 with 1 Axes>"
      ]
     },
     "metadata": {},
     "output_type": "display_data"
    }
   ],
   "source": [
    "\n",
    "acc_oof = extract_acc(sim_out_oof)\n",
    "acc_acdc = extract_acc(sim_out_acdc)\n",
    "acc_winsim = extract_acc(sim_out_winsim)\n",
    "\n",
    "\n",
    "plt.hist(empirical_accuracies['accuracy'])\n",
    "plt.hist(acc_oof, label = 'Out-Of-Sample')\n",
    "plt.hist(acc_acdc, label = 'ACDC')\n",
    "plt.hist(acc_winsim, label = 'Winner Simulation')\n",
    "\n",
    "\n",
    "# plt.hist(empirical_data['accuracies'])"
   ]
  },
  {
   "cell_type": "code",
   "execution_count": 29,
   "metadata": {},
   "outputs": [
    {
     "data": {
      "text/plain": [
       "<matplotlib.legend.Legend at 0x2990b26d0>"
      ]
     },
     "execution_count": 29,
     "metadata": {},
     "output_type": "execute_result"
    },
    {
     "data": {
      "image/png": "[encoded data removed]",
      "text/plain": [
       "<Figure size 640x480 with 1 Axes>"
      ]
     },
     "metadata": {},
     "output_type": "display_data"
    }
   ],
   "source": [
    "sns.kdeplot(empirical_accuracies['accuracy'], label = 'Empirical')\n",
    "sns.kdeplot(acc_oof, label = 'Out-Of-Sample')\n",
    "sns.kdeplot(acc_acdc, label = 'ACDC')\n",
    "sns.kdeplot(acc_winsim, label = 'Winner Simulation')\n",
    "plt.legend()"
   ]
  },
  {
   "cell_type": "code",
   "execution_count": 25,
   "metadata": {},
   "outputs": [
    {
     "data": {
      "text/plain": [
       "<Axes: ylabel='Density'>"
      ]
     },
     "execution_count": 25,
     "metadata": {},
     "output_type": "execute_result"
    },
    {
     "data": {
      "image/png": "[encoded data removed]",
      "text/plain": [
       "<Figure size 640x480 with 1 Axes>"
      ]
     },
     "metadata": {},
     "output_type": "display_data"
    }
   ],
   "source": [
    "sns.kdeplot(acc_oof, label = 'Out-Of-Sample')"
   ]
  },
  {
   "cell_type": "code",
   "execution_count": null,
   "metadata": {},
   "outputs": [],
   "source": []
  }
 ],
 "metadata": {
  "kernelspec": {
   "display_name": "bf",
   "language": "python",
   "name": "python3"
  },
  "language_info": {
   "codemirror_mode": {
    "name": "ipython",
    "version": 3
   },
   "file_extension": ".py",
   "mimetype": "text/x-python",
   "name": "python",
   "nbconvert_exporter": "python",
   "pygments_lexer": "ipython3",
   "version": "3.11.7"
  }
 },
 "nbformat": 4,
 "nbformat_minor": 2
}
